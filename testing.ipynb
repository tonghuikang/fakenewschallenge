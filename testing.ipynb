{
 "cells": [
  {
   "cell_type": "code",
   "execution_count": 1,
   "metadata": {},
   "outputs": [],
   "source": [
    "article_text = '''\n",
    "Halimah is a puppet President.\n",
    "'''"
   ]
  },
  {
   "cell_type": "code",
   "execution_count": 2,
   "metadata": {},
   "outputs": [],
   "source": [
    "statement = '''\n",
    "Playing the sexist card, President Halimah Yacob complained on state media saying that she is getting attention for what she wears:\n",
    "\n",
    "“As Singapore’s first female president, my dressing and wardrobe choices have come under greater scrutiny and I have to get used to this. Male presidents likely do not get as much attention on their attire…Occasional peculiarities do surface, such as when people comment about what I wear, because I am a female, I suspect.”\n",
    "\n",
    "However, according to media reports in the past year since her “election”, there was no mention of her dress sense by any media. There has been more scrutiny on her native Indian race, on how she officially became a Malay through legalised corruptions and the undemocratic process she was made President.\n",
    "\n",
    "The puppet President installed by Lee Hsien Loong through a walkover win was speaking at her alma mater Tanjong Katong Girls’ School (TKGS) yesterday (Jun 27). The former PAP MP for 20 years continued lying saying that there were sexist questions when she was first elected:\n",
    "\n",
    "“When I was elected (as MP) in 2001, one of the most common questions asked of me was, ‘Who is going to take care of your children?’ And then I replied them, look, I have a husband, too. We are supposed to divide the duties equally. But now, we do have female MPs and they have children… and people don’t ask that question. We have truly progressed quite great deal… it is not the gender that matters, but whether the person can do the job.”\n",
    "\n",
    "Earlier in March, Halimah Yacob signed off the 2018 Budget giving private corporations a 40% tax cuts amounting to S$2.27 billion and the raising of GST to 9% by 2021. Already mired in controversies since her Presidential nomination, Halimah Yacob dishonoured the Presidential role and hid away – even at her own private residence in Istana – during the Donald Trump-Kim Jong Un meeting.\n",
    "\n",
    "Despite holding a law degree, the ignorant President broke the law by advertising for a private corporation using her Singapore President title.\n",
    "'''"
   ]
  },
  {
   "cell_type": "code",
   "execution_count": 3,
   "metadata": {},
   "outputs": [],
   "source": [
    "import pandas as pd"
   ]
  },
  {
   "cell_type": "code",
   "execution_count": 4,
   "metadata": {},
   "outputs": [],
   "source": [
    "test_stances_unlabeled_2D_array = []\n",
    "test_stances_unlabeled_2D_array.append([statement, 1])"
   ]
  },
  {
   "cell_type": "code",
   "execution_count": 5,
   "metadata": {},
   "outputs": [],
   "source": [
    "# test_stances_unlabeled.csv\n",
    "# Headline,Body ID\n",
    "my_df = pd.DataFrame(test_stances_unlabeled_2D_array)\n",
    "my_df.to_csv('test_stances_unlabeled.csv', index=False, header=[\"Headline\", \"Body ID\"])"
   ]
  },
  {
   "cell_type": "code",
   "execution_count": null,
   "metadata": {},
   "outputs": [],
   "source": []
  },
  {
   "cell_type": "code",
   "execution_count": 6,
   "metadata": {},
   "outputs": [],
   "source": [
    "# test_bodies.csv\n",
    "# Body ID,articleBody\n",
    "test_bodies_2D_array = []\n",
    "test_bodies_2D_array.append([1, article_text])"
   ]
  },
  {
   "cell_type": "code",
   "execution_count": 7,
   "metadata": {},
   "outputs": [],
   "source": [
    "# test_bodies.csv\n",
    "# Body ID,articleBody\n",
    "my_df = pd.DataFrame(test_bodies_2D_array)\n",
    "my_df.to_csv('test_bodies.csv', index=False, header=[\"Body ID\", \"articleBody\"])"
   ]
  },
  {
   "cell_type": "code",
   "execution_count": null,
   "metadata": {},
   "outputs": [],
   "source": []
  },
  {
   "cell_type": "code",
   "execution_count": 11,
   "metadata": {},
   "outputs": [
    {
     "name": "stdout",
     "output_type": "stream",
     "text": [
      "Traceback (most recent call last):\r\n",
      "  File \"pred.py\", line 92, in <module>\r\n",
      "    loss = tf.reduce_sum(tf.nn.sparse_softmax_cross_entropy_with_logits(logits, stances_pl) + l2_loss)\r\n",
      "  File \"/anaconda3/envs/nd/lib/python3.6/site-packages/tensorflow/python/ops/nn_ops.py\", line 1713, in sparse_softmax_cross_entropy_with_logits\r\n",
      "    labels, logits)\r\n",
      "  File \"/anaconda3/envs/nd/lib/python3.6/site-packages/tensorflow/python/ops/nn_ops.py\", line 1562, in _ensure_xent_args\r\n",
      "    \"named arguments (labels=..., logits=..., ...)\" % name)\r\n",
      "ValueError: Only call `sparse_softmax_cross_entropy_with_logits` with named arguments (labels=..., logits=..., ...)\r\n"
     ]
    }
   ],
   "source": [
    "!source activate nd && python pred.py -m load"
   ]
  },
  {
   "cell_type": "code",
   "execution_count": null,
   "metadata": {},
   "outputs": [],
   "source": []
  },
  {
   "cell_type": "code",
   "execution_count": 12,
   "metadata": {},
   "outputs": [
    {
     "name": "stdout",
     "output_type": "stream",
     "text": [
      "      Stance\n",
      "0  unrelated\n",
      "1  unrelated\n",
      "2  unrelated\n",
      "3    discuss\n",
      "4  unrelated\n"
     ]
    }
   ],
   "source": [
    "preds = pd.read_csv('predictions_test.csv', header=[0])\n",
    "print(preds.head())"
   ]
  },
  {
   "cell_type": "code",
   "execution_count": null,
   "metadata": {},
   "outputs": [],
   "source": [
    "\n"
   ]
  }
 ],
 "metadata": {
  "kernelspec": {
   "display_name": "Python [conda env:qs]",
   "language": "python",
   "name": "conda-env-qs-py"
  },
  "language_info": {
   "codemirror_mode": {
    "name": "ipython",
    "version": 3
   },
   "file_extension": ".py",
   "mimetype": "text/x-python",
   "name": "python",
   "nbconvert_exporter": "python",
   "pygments_lexer": "ipython3",
   "version": "3.6.5"
  }
 },
 "nbformat": 4,
 "nbformat_minor": 2
}
